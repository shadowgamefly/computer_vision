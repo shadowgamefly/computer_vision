{
 "cells": [
  {
   "cell_type": "code",
   "execution_count": 93,
   "metadata": {
    "collapsed": false
   },
   "outputs": [
    {
     "ename": "ImportError",
     "evalue": "No module named 'scipy.ndimage.morphology.distance_transform_edt'; 'scipy.ndimage.morphology' is not a package",
     "output_type": "error",
     "traceback": [
      "\u001b[0;31m---------------------------------------------------------------------------\u001b[0m",
      "\u001b[0;31mImportError\u001b[0m                               Traceback (most recent call last)",
      "\u001b[0;32m<ipython-input-93-9bfb01a9a009>\u001b[0m in \u001b[0;36m<module>\u001b[0;34m()\u001b[0m\n\u001b[1;32m     11\u001b[0m \u001b[0;32mfrom\u001b[0m \u001b[0mscipy\u001b[0m \u001b[0;32mimport\u001b[0m \u001b[0mndimage\u001b[0m \u001b[0;32mas\u001b[0m \u001b[0mndi\u001b[0m\u001b[0;34m\u001b[0m\u001b[0m\n\u001b[1;32m     12\u001b[0m \u001b[0;32mimport\u001b[0m \u001b[0mskimage\u001b[0m\u001b[0;34m.\u001b[0m\u001b[0mtransform\u001b[0m\u001b[0;34m\u001b[0m\u001b[0m\n\u001b[0;32m---> 13\u001b[0;31m \u001b[0;32mimport\u001b[0m \u001b[0mscipy\u001b[0m\u001b[0;34m.\u001b[0m\u001b[0mndimage\u001b[0m\u001b[0;34m.\u001b[0m\u001b[0mmorphology\u001b[0m\u001b[0;34m.\u001b[0m\u001b[0mdistance_transform_edt\u001b[0m\u001b[0;34m\u001b[0m\u001b[0m\n\u001b[0m",
      "\u001b[0;31mImportError\u001b[0m: No module named 'scipy.ndimage.morphology.distance_transform_edt'; 'scipy.ndimage.morphology' is not a package"
     ]
    }
   ],
   "source": [
    "import os\n",
    "import skimage\n",
    "import pylab\n",
    "import numpy as np\n",
    "import math, random\n",
    "import cv2\n",
    "from skimage import data\n",
    "from skimage.color import rgb2grey\n",
    "from skimage import filters, io\n",
    "from scipy.signal import convolve2d\n",
    "from scipy import ndimage as ndi\n",
    "import skimage.transform"
   ]
  },
  {
   "cell_type": "code",
   "execution_count": 2,
   "metadata": {
    "collapsed": false
   },
   "outputs": [],
   "source": [
    "image_a = cv2.imread(\"a.jpg\")\n",
    "image_b = cv2.imread(\"b.jpg\")"
   ]
  },
  {
   "cell_type": "code",
   "execution_count": 3,
   "metadata": {
    "collapsed": false
   },
   "outputs": [],
   "source": [
    "sift = cv2.xfeatures2d.SIFT_create()\n",
    "kp1, des1 = sift.detectAndCompute(image_a,None)\n",
    "kp2, des2 = sift.detectAndCompute(image_b,None)\n",
    "bf = cv2.BFMatcher()\n",
    "matches = bf.knnMatch(des1,des2, k=2)\n",
    "good = []\n",
    "for m,n in matches:\n",
    "    if m.distance < 0.75*n.distance:\n",
    "        good.append([m])"
   ]
  },
  {
   "cell_type": "code",
   "execution_count": 4,
   "metadata": {
    "collapsed": false
   },
   "outputs": [],
   "source": [
    "def apply(H, a):\n",
    "    np.set_printoptions(suppress=True)\n",
    "    a.append(1)\n",
    "    a = np.dot(H, a)\n",
    "    a[:] = [x / a[-1] for x in a]\n",
    "    return [a[0], a[1]]"
   ]
  },
  {
   "cell_type": "code",
   "execution_count": 5,
   "metadata": {
    "collapsed": false
   },
   "outputs": [],
   "source": [
    "def fits(A_list, B_list):\n",
    "    np.set_printoptions(suppress=True)\n",
    "    A = np.zeros([8, 8])\n",
    "    b = np.zeros([8])\n",
    "    for i in range(4):\n",
    "        pA = A_list[i]\n",
    "        pB = B_list[i]\n",
    "        A[2*i] = [pB[0], pB[1], 1, 0 , 0, 0, -1 * pA[0] * pB[0], -1*pA[0]*pB[1]]\n",
    "        b[2*i] = pA[0]\n",
    "        A[2*i + 1] = [0, 0, 0, pB[0], pB[1], 1, -1 * pA[1] * pB[0], -1 * pA[1] * pB[1]]\n",
    "        b[2*i + 1] =pA[1]\n",
    "    x = np.linalg.solve(A, b)\n",
    "    epi = 1e-10\n",
    "    for i in x:\n",
    "        if i < epi:\n",
    "            i = 0\n",
    "    return np.append(x, 1).reshape([3,3])"
   ]
  },
  {
   "cell_type": "code",
   "execution_count": 6,
   "metadata": {
    "collapsed": false
   },
   "outputs": [
    {
     "name": "stderr",
     "output_type": "stream",
     "text": [
      "/Users/jerrysun/anaconda3/envs/test/lib/python3.5/site-packages/ipykernel/__main__.py:5: RuntimeWarning: invalid value encountered in double_scalars\n"
     ]
    },
    {
     "name": "stdout",
     "output_type": "stream",
     "text": [
      "0\n"
     ]
    }
   ],
   "source": [
    "ITE = 500\n",
    "T = 0.005\n",
    "H_list = np.zeros([ITE, 3, 3]) \n",
    "max_inlier = 0\n",
    "max_index = -1\n",
    "for i in range(ITE):\n",
    "    pairs = random.sample(good, 4)\n",
    "    A_list = list([kp1[match[0].queryIdx].pt[0], kp1[match[0].queryIdx].pt[1]] for match in pairs)\n",
    "    B_list = list([kp2[match[0].trainIdx].pt[0], kp2[match[0].trainIdx].pt[1]] for match in pairs)\n",
    "    try:\n",
    "        H_list[i] = fits(A_list, B_list)\n",
    "    except: \n",
    "        continue\n",
    "    count = 0\n",
    "    for match in good:\n",
    "        a = [kp1[match[0].queryIdx].pt[0], kp1[match[0].queryIdx].pt[1]]\n",
    "        b = [kp2[match[0].trainIdx].pt[0], kp2[match[0].trainIdx].pt[1]]\n",
    "        if np.linalg.norm(np.subtract(apply(H_list[i], b), a)) < T:\n",
    "            count += 1\n",
    "    if count > max_inlier:\n",
    "        max_index = i\n",
    "        max_inlier = count\n",
    "print(max_index)        "
   ]
  },
  {
   "cell_type": "code",
   "execution_count": 40,
   "metadata": {
    "collapsed": false
   },
   "outputs": [
    {
     "name": "stdout",
     "output_type": "stream",
     "text": [
      "[[   0.61684454   -0.21092917  372.40441395]\n",
      " [  -0.07643232    0.64380831   81.07477423]\n",
      " [  -0.00037545   -0.00048571    1.        ]]\n"
     ]
    }
   ],
   "source": [
    "H = H_list[max_index]\n",
    "print(H)"
   ]
  },
  {
   "cell_type": "code",
   "execution_count": 118,
   "metadata": {
    "collapsed": false
   },
   "outputs": [],
   "source": [
    "def composite_warped(a, b, H):\n",
    "    \"Warp images a and b to a's coordinate system using the homography H which maps b coordinates to a coordinates.\"\n",
    "    out_shape = (a.shape[0], 2*a.shape[1])                               # Output image (height, width)\n",
    "    p = skimage.transform.ProjectiveTransform(np.linalg.inv(H))       # Inverse of homography (used for inverse warping)\n",
    "    bwarp = skimage.transform.warp(b, p, output_shape=out_shape)         # Inverse warp b to a coords\n",
    "    bvalid = np.zeros(b.shape, 'uint8')                               # Establish a region of interior pixels in b\n",
    "    avalid = np.zeros(a.shape, 'uint8')\n",
    "    bvalid[1:-1,1:-1,:] = 255\n",
    "    avalid[1:-1,1:-1,:] = 255 \n",
    "    bmask = skimage.transform.warp(bvalid, p, output_shape=out_shape)    # Inverse warp interior pixel region to a coords\n",
    "    overlap=np.zeros((a.shape[0], 2*a.shape[1]))\n",
    "    for i in range(402):\n",
    "        for j in range(602):\n",
    "            if bmask[i][j][0] != 0:\n",
    "                overlap[i][j] = 1\n",
    "    apad = np.hstack((skimage.img_as_float(a), np.zeros(a.shape))) # Pad a with black pixels on the right\n",
    "    origin_image = (np.where(bmask==1.0, bwarp, apad))    # Select either bwarp or apad based on mask\n",
    "    onlyA = np.ones((a.shape[0], 2*a.shape[1]))\n",
    "    for i in range(402):\n",
    "        for j in range(602):\n",
    "            if overlap[i][j] == 0:\n",
    "                onlyA[i][j] = 0;\n",
    "    pylab.imshow(onlyA)\n",
    "    pylab.show()\n",
    "\n",
    "\n",
    "    onlyB = np.ones((a.shape[0], 2*a.shape[1]))\n",
    "    for i in range(402):\n",
    "        for j in range(602, 1204):\n",
    "            if bmask[i][j][0] != 0:\n",
    "                onlyB[i][j] = 0;\n",
    "    pylab.imshow(onlyB)\n",
    "    pylab.show()\n",
    "\n",
    "\n",
    "    DistanceToA = ndi.morphology.distance_transform_edt(onlyA)\n",
    "    DistanceToB = ndi.morphology.distance_transform_edt(onlyB)\n",
    "    newA = skimage.img_as_float(a)\n",
    "    for i in range(402):\n",
    "        for j in range(604):\n",
    "            if overlap[i][j] == 1:\n",
    "                ratio = DistanceToA[i][j] / (DistanceToB[i][j]+DistanceToA[i][j])\n",
    "                origin_image[i][j] = ratio * skimage.img_as_float(a)[i][j] + (1-ratio) * origin_image[i][j]\n",
    "    \n",
    "    return skimage.img_as_ubyte(origin_image)"
   ]
  },
  {
   "cell_type": "code",
   "execution_count": 119,
   "metadata": {
    "collapsed": false
   },
   "outputs": [
    {
     "data": {
      "image/png": "[encoded data removed]",
      "text/plain": [
       "<matplotlib.figure.Figure at 0x129c27748>"
      ]
     },
     "metadata": {},
     "output_type": "display_data"
    },
    {
     "data": {
      "image/png": "[encoded data removed]",
      "text/plain": [
       "<matplotlib.figure.Figure at 0x123e4eb38>"
      ]
     },
     "metadata": {},
     "output_type": "display_data"
    },
    {
     "ename": "KeyboardInterrupt",
     "evalue": "",
     "output_type": "error",
     "traceback": [
      "\u001b[0;31m---------------------------------------------------------------------------\u001b[0m",
      "\u001b[0;31mKeyboardInterrupt\u001b[0m                         Traceback (most recent call last)",
      "\u001b[0;32m<ipython-input-119-5871252a641a>\u001b[0m in \u001b[0;36m<module>\u001b[0;34m()\u001b[0m\n\u001b[0;32m----> 1\u001b[0;31m \u001b[0mfinal\u001b[0m \u001b[0;34m=\u001b[0m \u001b[0mcomposite_warped\u001b[0m\u001b[0;34m(\u001b[0m\u001b[0mimage_a\u001b[0m\u001b[0;34m,\u001b[0m \u001b[0mimage_b\u001b[0m\u001b[0;34m,\u001b[0m \u001b[0mH\u001b[0m\u001b[0;34m)\u001b[0m\u001b[0;34m\u001b[0m\u001b[0m\n\u001b[0m",
      "\u001b[0;32m<ipython-input-118-cfeb23b399de>\u001b[0m in \u001b[0;36mcomposite_warped\u001b[0;34m(a, b, H)\u001b[0m\n\u001b[1;32m     40\u001b[0m             \u001b[0;32mif\u001b[0m \u001b[0moverlap\u001b[0m\u001b[0;34m[\u001b[0m\u001b[0mi\u001b[0m\u001b[0;34m]\u001b[0m\u001b[0;34m[\u001b[0m\u001b[0mj\u001b[0m\u001b[0;34m]\u001b[0m \u001b[0;34m==\u001b[0m \u001b[0;36m1\u001b[0m\u001b[0;34m:\u001b[0m\u001b[0;34m\u001b[0m\u001b[0m\n\u001b[1;32m     41\u001b[0m                 \u001b[0mratio\u001b[0m \u001b[0;34m=\u001b[0m \u001b[0mDistanceToA\u001b[0m\u001b[0;34m[\u001b[0m\u001b[0mi\u001b[0m\u001b[0;34m]\u001b[0m\u001b[0;34m[\u001b[0m\u001b[0mj\u001b[0m\u001b[0;34m]\u001b[0m \u001b[0;34m/\u001b[0m \u001b[0;34m(\u001b[0m\u001b[0mDistanceToB\u001b[0m\u001b[0;34m[\u001b[0m\u001b[0mi\u001b[0m\u001b[0;34m]\u001b[0m\u001b[0;34m[\u001b[0m\u001b[0mj\u001b[0m\u001b[0;34m]\u001b[0m\u001b[0;34m+\u001b[0m\u001b[0mDistanceToA\u001b[0m\u001b[0;34m[\u001b[0m\u001b[0mi\u001b[0m\u001b[0;34m]\u001b[0m\u001b[0;34m[\u001b[0m\u001b[0mj\u001b[0m\u001b[0;34m]\u001b[0m\u001b[0;34m)\u001b[0m\u001b[0;34m\u001b[0m\u001b[0m\n\u001b[0;32m---> 42\u001b[0;31m                 \u001b[0morigin_image\u001b[0m\u001b[0;34m[\u001b[0m\u001b[0mi\u001b[0m\u001b[0;34m]\u001b[0m\u001b[0;34m[\u001b[0m\u001b[0mj\u001b[0m\u001b[0;34m]\u001b[0m \u001b[0;34m=\u001b[0m \u001b[0mratio\u001b[0m \u001b[0;34m*\u001b[0m \u001b[0mskimage\u001b[0m\u001b[0;34m.\u001b[0m\u001b[0mimg_as_float\u001b[0m\u001b[0;34m(\u001b[0m\u001b[0ma\u001b[0m\u001b[0;34m)\u001b[0m\u001b[0;34m[\u001b[0m\u001b[0mi\u001b[0m\u001b[0;34m]\u001b[0m\u001b[0;34m[\u001b[0m\u001b[0mj\u001b[0m\u001b[0;34m]\u001b[0m \u001b[0;34m+\u001b[0m \u001b[0;34m(\u001b[0m\u001b[0;36m1\u001b[0m\u001b[0;34m-\u001b[0m\u001b[0mratio\u001b[0m\u001b[0;34m)\u001b[0m \u001b[0;34m*\u001b[0m \u001b[0morigin_image\u001b[0m\u001b[0;34m[\u001b[0m\u001b[0mi\u001b[0m\u001b[0;34m]\u001b[0m\u001b[0;34m[\u001b[0m\u001b[0mj\u001b[0m\u001b[0;34m]\u001b[0m\u001b[0;34m\u001b[0m\u001b[0m\n\u001b[0m\u001b[1;32m     43\u001b[0m \u001b[0;34m\u001b[0m\u001b[0m\n\u001b[1;32m     44\u001b[0m     \u001b[0;32mreturn\u001b[0m \u001b[0mskimage\u001b[0m\u001b[0;34m.\u001b[0m\u001b[0mimg_as_ubyte\u001b[0m\u001b[0;34m(\u001b[0m\u001b[0morigin_image\u001b[0m\u001b[0;34m)\u001b[0m\u001b[0;34m\u001b[0m\u001b[0m\n",
      "\u001b[0;32m/Users/jerrysun/anaconda3/envs/test/lib/python3.5/site-packages/skimage/util/dtype.py\u001b[0m in \u001b[0;36mimg_as_float\u001b[0;34m(image, force_copy)\u001b[0m\n\u001b[1;32m    299\u001b[0m \u001b[0;34m\u001b[0m\u001b[0m\n\u001b[1;32m    300\u001b[0m     \"\"\"\n\u001b[0;32m--> 301\u001b[0;31m     \u001b[0;32mreturn\u001b[0m \u001b[0mconvert\u001b[0m\u001b[0;34m(\u001b[0m\u001b[0mimage\u001b[0m\u001b[0;34m,\u001b[0m \u001b[0mnp\u001b[0m\u001b[0;34m.\u001b[0m\u001b[0mfloat64\u001b[0m\u001b[0;34m,\u001b[0m \u001b[0mforce_copy\u001b[0m\u001b[0;34m)\u001b[0m\u001b[0;34m\u001b[0m\u001b[0m\n\u001b[0m\u001b[1;32m    302\u001b[0m \u001b[0;34m\u001b[0m\u001b[0m\n\u001b[1;32m    303\u001b[0m \u001b[0;34m\u001b[0m\u001b[0m\n",
      "\u001b[0;32m/Users/jerrysun/anaconda3/envs/test/lib/python3.5/site-packages/skimage/util/dtype.py\u001b[0m in \u001b[0;36mconvert\u001b[0;34m(image, dtype, force_copy, uniform)\u001b[0m\n\u001b[1;32m    241\u001b[0m                                        np.float32, np.float64))\n\u001b[1;32m    242\u001b[0m         \u001b[0;32mif\u001b[0m \u001b[0mkind_in\u001b[0m \u001b[0;34m==\u001b[0m \u001b[0;34m'u'\u001b[0m\u001b[0;34m:\u001b[0m\u001b[0;34m\u001b[0m\u001b[0m\n\u001b[0;32m--> 243\u001b[0;31m             \u001b[0mimage\u001b[0m \u001b[0;34m/=\u001b[0m \u001b[0mimax_in\u001b[0m\u001b[0;34m\u001b[0m\u001b[0m\n\u001b[0m\u001b[1;32m    244\u001b[0m             \u001b[0;31m# DirectX uses this conversion also for signed ints\u001b[0m\u001b[0;34m\u001b[0m\u001b[0;34m\u001b[0m\u001b[0m\n\u001b[1;32m    245\u001b[0m             \u001b[0;31m#if imin_in:\u001b[0m\u001b[0;34m\u001b[0m\u001b[0;34m\u001b[0m\u001b[0m\n",
      "\u001b[0;31mKeyboardInterrupt\u001b[0m: "
     ]
    }
   ],
   "source": [
    "final = composite_warped(image_a, image_b, H)"
   ]
  },
  {
   "cell_type": "code",
   "execution_count": null,
   "metadata": {
    "collapsed": true
   },
   "outputs": [],
   "source": []
  },
  {
   "cell_type": "code",
   "execution_count": null,
   "metadata": {
    "collapsed": false
   },
   "outputs": [],
   "source": [
    "pylab.imshow(final)\n",
    "pylab.show()\n"
   ]
  }
 ],
 "metadata": {
  "kernelspec": {
   "display_name": "Python 3",
   "language": "python",
   "name": "python3"
  },
  "language_info": {
   "codemirror_mode": {
    "name": "ipython",
    "version": 3
   },
   "file_extension": ".py",
   "mimetype": "text/x-python",
   "name": "python",
   "nbconvert_exporter": "python",
   "pygments_lexer": "ipython3",
   "version": "3.5.3"
  }
 },
 "nbformat": 4,
 "nbformat_minor": 2
}
